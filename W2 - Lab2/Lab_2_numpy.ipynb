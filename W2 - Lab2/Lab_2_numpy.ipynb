{
 "cells": [
  {
   "cell_type": "markdown",
   "metadata": {},
   "source": [
    "# ECS784: Part of Lab 2\n",
    "\n",
    "# Introduction to the Numpy Library\n",
    "\n",
    "In this lab we will be looking into the numerical Python library known as Numpy"
   ]
  },
  {
   "cell_type": "markdown",
   "metadata": {},
   "source": [
    "## What is Numpy ?\n",
    "\n",
    "Numpy is a core Python library for scientific computing: \n",
    "\n",
    " * provides a powerful N-dimensional array object;\n",
    " * access to highly optimised linear algebra tools;\n",
    " * very close integration with C/C++ and Fortan code;\n",
    " * licensed under a BSD license (free to use).\n",
    " \n",
    " \n",
    "## Importing the Numpy\n",
    "\n",
    "The conventional approach is\n",
    "\n"
   ]
  },
  {
   "cell_type": "code",
   "execution_count": 1,
   "metadata": {},
   "outputs": [],
   "source": [
    "import numpy as np   # just hit shift+enter to run a cell in notebook!"
   ]
  },
  {
   "cell_type": "markdown",
   "metadata": {},
   "source": [
    "In the above statement, the python keyword 'as' allows us to use 'np' as a shorthand to refer to the 'numpy' module."
   ]
  },
  {
   "cell_type": "code",
   "execution_count": 2,
   "metadata": {},
   "outputs": [],
   "source": [
    "# You will also frequenty see the following statement\n",
    "\n",
    "import matplotlib.pyplot as plt\n",
    "\n",
    "# this allows the alias 'plt' to now access plotting libraries wrapped inside pyplt!"
   ]
  },
  {
   "cell_type": "markdown",
   "metadata": {},
   "source": [
    "## Generating a numpy array\n",
    "\n",
    "There are several ways to generate a numpy array. \n",
    " * It could be generated from a Python lists containing numeric data;\n",
    " * using numpy array generating functions;\n",
    " * reading numeric data from a file.\n",
    " \n",
    "Numpy represents N-dimensional array as type 'numpy.ndarray'"
   ]
  },
  {
   "cell_type": "markdown",
   "metadata": {},
   "source": [
    "## Creating array from lists"
   ]
  },
  {
   "cell_type": "code",
   "execution_count": 3,
   "metadata": {},
   "outputs": [
    {
     "name": "stdout",
     "output_type": "stream",
     "text": [
      "[1 2 3 4 5]\n",
      "<class 'numpy.ndarray'>\n"
     ]
    }
   ],
   "source": [
    "data_list = [1,2,3,4,5]\n",
    "array_1D = np.array(data_list)\n",
    "\n",
    "print(array_1D)            # [1 2 3 4 5]\n",
    "print(type(array_1D))      # <class 'numpy.ndarray'>"
   ]
  },
  {
   "cell_type": "code",
   "execution_count": 4,
   "metadata": {},
   "outputs": [
    {
     "name": "stdout",
     "output_type": "stream",
     "text": [
      "[[1 2 3]\n",
      " [4 5 6]\n",
      " [7 8 9]]\n",
      "<class 'numpy.ndarray'>\n"
     ]
    }
   ],
   "source": [
    "my_2d_array = np.array([[1, 2, 3], [4, 5, 6], [7, 8, 9]])\n",
    "\n",
    "print(my_2d_array)\n",
    "print(type(my_2d_array))"
   ]
  },
  {
   "cell_type": "markdown",
   "metadata": {},
   "source": [
    "## The ndarray object’s properties\n",
    "\n",
    "The ndarray has various properties that we can access, for example using the above my_2d_array we can see:\n",
    " "
   ]
  },
  {
   "cell_type": "code",
   "execution_count": 5,
   "metadata": {},
   "outputs": [
    {
     "name": "stdout",
     "output_type": "stream",
     "text": [
      "(3, 3)\n"
     ]
    }
   ],
   "source": [
    "print(my_2d_array.shape)   # the shape of a numpy array "
   ]
  },
  {
   "cell_type": "code",
   "execution_count": 6,
   "metadata": {},
   "outputs": [
    {
     "name": "stdout",
     "output_type": "stream",
     "text": [
      "9\n"
     ]
    }
   ],
   "source": [
    "print(my_2d_array.size)    # the size of a numpy array\n",
    "                           # returns the total number of elements"
   ]
  },
  {
   "cell_type": "code",
   "execution_count": 7,
   "metadata": {},
   "outputs": [
    {
     "name": "stdout",
     "output_type": "stream",
     "text": [
      "int64\n"
     ]
    }
   ],
   "source": [
    "print(my_2d_array.dtype)   # Print the type of data the array holds which is automatically inferred from types used in arrays\n",
    "                           # (eg: int64, float64 etc)"
   ]
  },
  {
   "cell_type": "markdown",
   "metadata": {},
   "source": [
    "## N-dimensional arrays\n",
    "\n",
    "Note, numpy generalises arrays to be N-dimensional\n"
   ]
  },
  {
   "cell_type": "code",
   "execution_count": 8,
   "metadata": {},
   "outputs": [
    {
     "name": "stdout",
     "output_type": "stream",
     "text": [
      "X2 is 2-D:\n",
      "[[1 2]\n",
      " [3 4]]\n",
      "with shape (2, 2)\n",
      "element (0, 1) has value 2\n",
      "\n",
      "X3 is 3-D:\n",
      "[[[1 2]\n",
      "  [3 4]]\n",
      "\n",
      " [[1 2]\n",
      "  [3 4]]]\n",
      "with shape (2, 2, 2)\n",
      "element (0, 1, 0) has value 3\n",
      "\n"
     ]
    }
   ],
   "source": [
    "x2 = np.array([[1,2], [3, 4]])       # a matrix \n",
    "print('X2 is 2-D:\\n{}\\nwith shape {}'.format(x2, x2.shape))                      # (2, 2)\n",
    "print('element (0, 1) has value {}\\n'.format(x2[0][1]))\n",
    "\n",
    "x3 = np.array([x2, x2])              # stacking two matrices\n",
    "print('X3 is 3-D:\\n{}\\nwith shape {}'.format(x3, x3.shape))                 \n",
    "print('element (0, 1, 0) has value {}\\n'.format(x3[0][1][0]))\n"
   ]
  },
  {
   "cell_type": "code",
   "execution_count": 9,
   "metadata": {},
   "outputs": [
    {
     "name": "stdout",
     "output_type": "stream",
     "text": [
      "x4 is 4-D:\n",
      "[[[[1 2]\n",
      "   [3 4]]\n",
      "\n",
      "  [[1 2]\n",
      "   [3 4]]]\n",
      "\n",
      "\n",
      " [[[1 2]\n",
      "   [3 4]]\n",
      "\n",
      "  [[1 2]\n",
      "   [3 4]]]\n",
      "\n",
      "\n",
      " [[[1 2]\n",
      "   [3 4]]\n",
      "\n",
      "  [[1 2]\n",
      "   [3 4]]]\n",
      "\n",
      "\n",
      " [[[1 2]\n",
      "   [3 4]]\n",
      "\n",
      "  [[1 2]\n",
      "   [3 4]]]\n",
      "\n",
      "\n",
      " [[[1 2]\n",
      "   [3 4]]\n",
      "\n",
      "  [[1 2]\n",
      "   [3 4]]]]\n",
      "with shape (5, 2, 2, 2)\n",
      "element (0, 1, 0) has value [1 2]\n",
      "\n"
     ]
    }
   ],
   "source": [
    "x4 = np.array([x3, x3, x3, x3, x3])  # stacking 5 3-D structures\n",
    "print('x4 is 4-D:\\n{}\\nwith shape {}'.format(x4, x4.shape))               \n",
    "print('element (0, 1, 0) has value {}\\n'.format(x4[0][1][0]))\n",
    "\n",
    "x5 = np.array([x4, x4])              # stacking 2 4-D structures!"
   ]
  },
  {
   "cell_type": "markdown",
   "metadata": {},
   "source": [
    "## Array generating functions"
   ]
  },
  {
   "cell_type": "markdown",
   "metadata": {},
   "source": [
    "### 1. arange function"
   ]
  },
  {
   "cell_type": "code",
   "execution_count": 10,
   "metadata": {},
   "outputs": [
    {
     "name": "stdout",
     "output_type": "stream",
     "text": [
      "[0 1 2 3 4 5 6 7 8 9]\n"
     ]
    }
   ],
   "source": [
    "print(np.arange(10))     # generates an array containing 10 integers starting from 0"
   ]
  },
  {
   "cell_type": "code",
   "execution_count": 11,
   "metadata": {},
   "outputs": [
    {
     "name": "stdout",
     "output_type": "stream",
     "text": [
      "[10 11 12 13 14 15 16 17 18 19]\n"
     ]
    }
   ],
   "source": [
    "print(np.arange(10, 20))   # generates an array containing integers starting from 10 to less than 20 "
   ]
  },
  {
   "cell_type": "code",
   "execution_count": 12,
   "metadata": {},
   "outputs": [
    {
     "name": "stdout",
     "output_type": "stream",
     "text": [
      "[10 12 14 16 18]\n"
     ]
    }
   ],
   "source": [
    "print(np.arange(10, 20, 2))   # generates an array containing integers starting from 10 to less than 20, with a difference of 2"
   ]
  },
  {
   "cell_type": "markdown",
   "metadata": {},
   "source": [
    "### 2.  linspace"
   ]
  },
  {
   "cell_type": "code",
   "execution_count": 13,
   "metadata": {},
   "outputs": [
    {
     "name": "stdout",
     "output_type": "stream",
     "text": [
      "[10.  12.5 15.  17.5 20. ]\n"
     ]
    }
   ],
   "source": [
    "print(np.linspace(10, 20, 5))  # start, stop, n-points; i.e., generates 5 values between 10 and 20 with equal discrepancy between them"
   ]
  },
  {
   "cell_type": "markdown",
   "metadata": {},
   "source": [
    "### 3. ones and zeros functions"
   ]
  },
  {
   "cell_type": "code",
   "execution_count": 14,
   "metadata": {},
   "outputs": [
    {
     "name": "stdout",
     "output_type": "stream",
     "text": [
      "[[0. 0. 0.]\n",
      " [0. 0. 0.]\n",
      " [0. 0. 0.]]\n"
     ]
    }
   ],
   "source": [
    "print(np.zeros((3, 3)))   # the argument is a tuple !"
   ]
  },
  {
   "cell_type": "code",
   "execution_count": 15,
   "metadata": {},
   "outputs": [
    {
     "name": "stdout",
     "output_type": "stream",
     "text": [
      "[[1. 1. 1.]\n",
      " [1. 1. 1.]\n",
      " [1. 1. 1.]]\n"
     ]
    }
   ],
   "source": [
    "print(np.ones((3, 3)))   # the argument is a tuple !"
   ]
  },
  {
   "cell_type": "markdown",
   "metadata": {},
   "source": [
    "### 4. diagonal matrix"
   ]
  },
  {
   "cell_type": "code",
   "execution_count": 16,
   "metadata": {},
   "outputs": [
    {
     "name": "stdout",
     "output_type": "stream",
     "text": [
      "[[4 0 0]\n",
      " [0 5 0]\n",
      " [0 0 3]]\n"
     ]
    }
   ],
   "source": [
    "print(np.diag((4,5,3)))  # generate diagonal matrix; the function infers the shape from the given elements"
   ]
  },
  {
   "cell_type": "markdown",
   "metadata": {},
   "source": [
    "## 5. Random numbers"
   ]
  },
  {
   "cell_type": "markdown",
   "metadata": {},
   "source": [
    "#### Initialise an array with random numbers ranging from 0 to 1, sampled from a uniform distribution\n"
   ]
  },
  {
   "cell_type": "code",
   "execution_count": 17,
   "metadata": {},
   "outputs": [
    {
     "name": "stdout",
     "output_type": "stream",
     "text": [
      "[[0.52999812 0.32848098 0.53843141 0.93315819]\n",
      " [0.01883973 0.27342587 0.74203708 0.40660448]]\n"
     ]
    }
   ],
   "source": [
    "print(np.random.rand(2,4)) # Create an array of the given shape and populate it with random samples \n",
    "                           # from a uniform distribution over [0, 1]"
   ]
  },
  {
   "cell_type": "markdown",
   "metadata": {},
   "source": [
    "#### Initialise an array with random numbers from a normal distribution"
   ]
  },
  {
   "cell_type": "code",
   "execution_count": 18,
   "metadata": {},
   "outputs": [
    {
     "name": "stdout",
     "output_type": "stream",
     "text": [
      "[[ 1.37566281  1.0487077  -0.15576304 -2.43495059]\n",
      " [ 1.0698463   0.46617571 -0.1478796   0.04809644]]\n"
     ]
    }
   ],
   "source": [
    "print(np.random.standard_normal((2,4)))  # Draw samples from a Standard Normal distribution\n",
    "                                         # has default hyperparameters mean=0, stdev=1"
   ]
  },
  {
   "cell_type": "markdown",
   "metadata": {},
   "source": [
    "#### Initialise an array with random integer numbers"
   ]
  },
  {
   "cell_type": "code",
   "execution_count": 19,
   "metadata": {},
   "outputs": [
    {
     "name": "stdout",
     "output_type": "stream",
     "text": [
      "[38 68 83 26 75 92 45 38 55 86]\n"
     ]
    }
   ],
   "source": [
    "x = np.random.randint(low=1, high=100, size=10)  # generate 10 random integers ranging from 1 to 100\n",
    "print(x)                                             "
   ]
  },
  {
   "cell_type": "markdown",
   "metadata": {},
   "source": [
    "## Reading arrays from files\n",
    "\n",
    " * genfromtxt function can be used to read from a TXT file;\n",
    " * savetxt function can be used to save a TXT file;\n",
    " * load and save functions for reading and writing in numpy's .npz format"
   ]
  },
  {
   "cell_type": "markdown",
   "metadata": {},
   "source": [
    "###  reading a TXT file with comma separated values"
   ]
  },
  {
   "cell_type": "code",
   "execution_count": 20,
   "metadata": {},
   "outputs": [
    {
     "name": "stdout",
     "output_type": "stream",
     "text": [
      "[[1. 2. 3. 4. 5.]\n",
      " [6. 7. 8. 9. 1.]\n",
      " [3. 2. 4. 6. 7.]\n",
      " [7. 3. 6. 9. 1.]]\n"
     ]
    }
   ],
   "source": [
    "data = np.genfromtxt('Lab_2_testInput.txt', delimiter=',')\n",
    "print(data)"
   ]
  },
  {
   "cell_type": "markdown",
   "metadata": {},
   "source": [
    "### saving a CSV file in the same working directory the script is in"
   ]
  },
  {
   "cell_type": "code",
   "execution_count": 21,
   "metadata": {},
   "outputs": [],
   "source": [
    "np.savetxt('output.csv', data, delimiter=',', fmt='%.5f') # fmt represents the format; float numbers up to 5 decimal points"
   ]
  },
  {
   "cell_type": "markdown",
   "metadata": {},
   "source": [
    "### Saving in numpy .npy binary format"
   ]
  },
  {
   "cell_type": "code",
   "execution_count": 22,
   "metadata": {},
   "outputs": [],
   "source": [
    "np.save('output1', data)   # just pass the output file name"
   ]
  },
  {
   "cell_type": "markdown",
   "metadata": {},
   "source": [
    "### Loading the previously saved numpy .npy binary file"
   ]
  },
  {
   "cell_type": "code",
   "execution_count": 23,
   "metadata": {},
   "outputs": [],
   "source": [
    "read_data = np.load('output1.npy')  # must supply file extension .npy"
   ]
  },
  {
   "cell_type": "code",
   "execution_count": 24,
   "metadata": {},
   "outputs": [
    {
     "name": "stdout",
     "output_type": "stream",
     "text": [
      "[[1. 2. 3. 4. 5.]\n",
      " [6. 7. 8. 9. 1.]\n",
      " [3. 2. 4. 6. 7.]\n",
      " [7. 3. 6. 9. 1.]]\n"
     ]
    }
   ],
   "source": [
    "data2 = data  # creating a reference of array data into data2 (changes in data2 also affect data, and changes in data also affect data2)\n",
    "print(data2)"
   ]
  },
  {
   "cell_type": "markdown",
   "metadata": {},
   "source": [
    "### Saving numpy arrays in archive form with .npz extension\n",
    "\n",
    "This allows multiple arrays to be saved to one file"
   ]
  },
  {
   "cell_type": "code",
   "execution_count": 25,
   "metadata": {},
   "outputs": [],
   "source": [
    "np.savez('output2', data=data, data2=data2) # save two different arrays"
   ]
  },
  {
   "cell_type": "markdown",
   "metadata": {},
   "source": [
    "### Loading .npz archive file"
   ]
  },
  {
   "cell_type": "code",
   "execution_count": 26,
   "metadata": {},
   "outputs": [
    {
     "name": "stdout",
     "output_type": "stream",
     "text": [
      "<class 'numpy.lib.npyio.NpzFile'>\n"
     ]
    }
   ],
   "source": [
    "read_data = np.load('output2.npz') # read the previously saved file\n",
    "print(type(read_data))"
   ]
  },
  {
   "cell_type": "code",
   "execution_count": 27,
   "metadata": {},
   "outputs": [
    {
     "name": "stdout",
     "output_type": "stream",
     "text": [
      "<class 'list'>\n",
      "['data', 'data2']\n"
     ]
    }
   ],
   "source": [
    "print(type(read_data.files))\n",
    "print(read_data.files)    # to view the files in zipped data"
   ]
  },
  {
   "cell_type": "code",
   "execution_count": 28,
   "metadata": {},
   "outputs": [
    {
     "name": "stdout",
     "output_type": "stream",
     "text": [
      "[[1. 2. 3. 4. 5.]\n",
      " [6. 7. 8. 9. 1.]\n",
      " [3. 2. 4. 6. 7.]\n",
      " [7. 3. 6. 9. 1.]]\n"
     ]
    }
   ],
   "source": [
    "print(read_data['data'])   # accessing the first array of read_data"
   ]
  },
  {
   "cell_type": "code",
   "execution_count": 29,
   "metadata": {},
   "outputs": [
    {
     "name": "stdout",
     "output_type": "stream",
     "text": [
      "[[1. 2. 3. 4. 5.]\n",
      " [6. 7. 8. 9. 1.]\n",
      " [3. 2. 4. 6. 7.]\n",
      " [7. 3. 6. 9. 1.]]\n"
     ]
    }
   ],
   "source": [
    "print(read_data['data2'])   # accessing the second array of read_data"
   ]
  },
  {
   "cell_type": "markdown",
   "metadata": {},
   "source": [
    "## Array manipulation"
   ]
  },
  {
   "cell_type": "code",
   "execution_count": 30,
   "metadata": {},
   "outputs": [
    {
     "name": "stdout",
     "output_type": "stream",
     "text": [
      "1\n",
      "[3 4 5]\n",
      "[1 2 3 4]\n",
      "[5 6 7]\n"
     ]
    }
   ],
   "source": [
    "x = np.array([1,2,3,4,5,6,7])\n",
    "print (x[0])\n",
    "print (x[2:5])\n",
    "print (x[:4])\n",
    "print (x[4:])\n",
    "\n",
    "#Array indexing is similar to lists but generalised to N-dimensions"
   ]
  },
  {
   "cell_type": "code",
   "execution_count": 31,
   "metadata": {},
   "outputs": [
    {
     "name": "stdout",
     "output_type": "stream",
     "text": [
      "[[7. 8. 9. 1.]\n",
      " [2. 4. 6. 7.]]\n"
     ]
    }
   ],
   "source": [
    "print (data2[1:3,1:5]) # return the rows from 1 to 3 and all the columns from 1 to 5\n",
    "                   # remember index starts from 0!"
   ]
  },
  {
   "cell_type": "markdown",
   "metadata": {},
   "source": [
    "### Extracting a row or column vector from a matrix"
   ]
  },
  {
   "cell_type": "code",
   "execution_count": 32,
   "metadata": {},
   "outputs": [
    {
     "data": {
      "text/plain": [
       "array([[1., 2., 3., 4., 5.],\n",
       "       [6., 7., 8., 9., 1.],\n",
       "       [3., 2., 4., 6., 7.],\n",
       "       [7., 3., 6., 9., 1.]])"
      ]
     },
     "execution_count": 32,
     "metadata": {},
     "output_type": "execute_result"
    }
   ],
   "source": [
    "data = np.genfromtxt('Lab_2_testInput.txt', delimiter=',') # read the data file into variable data\n",
    "data"
   ]
  },
  {
   "cell_type": "code",
   "execution_count": 33,
   "metadata": {},
   "outputs": [
    {
     "name": "stdout",
     "output_type": "stream",
     "text": [
      "[3. 2. 4. 6. 7.]\n",
      "(5,)\n"
     ]
    }
   ],
   "source": [
    "print (data[2,:])            # extract row 2 (can also write as x[2])\n",
    "print (data[2,:].shape)      # size of the row"
   ]
  },
  {
   "cell_type": "code",
   "execution_count": 34,
   "metadata": {},
   "outputs": [
    {
     "name": "stdout",
     "output_type": "stream",
     "text": [
      "[3. 8. 4. 6.]\n",
      "(4,)\n"
     ]
    }
   ],
   "source": [
    "print (data[:,2])            # extract column 2\n",
    "print (data[:,2].shape)      # size of the column"
   ]
  },
  {
   "cell_type": "markdown",
   "metadata": {},
   "source": [
    "## Data processing\n",
    "\n",
    "There exists many data processing methods such as min, max, sum, product, mean etc"
   ]
  },
  {
   "cell_type": "code",
   "execution_count": 35,
   "metadata": {},
   "outputs": [],
   "source": [
    "x = np.array([1,2,3,4,5,6])"
   ]
  },
  {
   "cell_type": "code",
   "execution_count": 36,
   "metadata": {},
   "outputs": [
    {
     "name": "stdout",
     "output_type": "stream",
     "text": [
      "1\n",
      "6\n",
      "21\n",
      "720\n",
      "3.5\n",
      "2.9166666666666665\n"
     ]
    }
   ],
   "source": [
    "print(x.min())         # minimum in x, prints 1\n",
    "print(x.max())         # maximum in x, prints 6\n",
    "print(x.sum())         # sum of all elements in x \n",
    "print(x.prod())        # product of all elements in x \n",
    "print(x.mean())        # mean of x\n",
    "print(x.var())         # variance of x"
   ]
  },
  {
   "cell_type": "markdown",
   "metadata": {},
   "source": [
    "Another way of calling these functions would be to use\n",
    " * np.max(array_name)\n",
    " * np.mean(array_name)"
   ]
  },
  {
   "cell_type": "markdown",
   "metadata": {},
   "source": [
    "## Same operations apply to matrices"
   ]
  },
  {
   "cell_type": "code",
   "execution_count": 37,
   "metadata": {},
   "outputs": [
    {
     "name": "stdout",
     "output_type": "stream",
     "text": [
      "Shape of x is (2, 6) and elements are:\n",
      "[[1 2 3 4 0 6]\n",
      " [3 4 0 6 7 8]]\n",
      "\n"
     ]
    }
   ],
   "source": [
    "x = np.array([[1,2,3,4,0,6],[3,4,0,6,7,8]])     # 2d Matrix\n",
    "print('Shape of x is {} and elements are:\\n{}\\n'.format(x.shape, x))"
   ]
  },
  {
   "cell_type": "markdown",
   "metadata": {},
   "source": [
    "**Note** - take care what axis argument is controlling ... here it specifies the dimension over which the operation occurs\n",
    "for example, sum(axis=0) means we are <b>summing over the row axis</b>, i.e. we are getting the column sums"
   ]
  },
  {
   "cell_type": "code",
   "execution_count": 38,
   "metadata": {},
   "outputs": [
    {
     "name": "stdout",
     "output_type": "stream",
     "text": [
      "\n",
      "Minimum over whole matrix:\n",
      "0\n",
      "\n",
      "Minimum (over rows) for each column:\n",
      "[1 2 0 4 0 6]\n",
      "\n",
      "Minimum (over columns) for each row:\n",
      "[0 0]\n",
      "\n",
      "Sum over whole matrix:\n",
      "44\n",
      "\n",
      "Sum (over rows) for each column:\n",
      "[ 4  6  3 10  7 14]\n",
      "\n",
      "Mean over whole matrix:\n",
      "3.6666666666666665\n",
      "\n",
      "Mean (over rows for each column:\n",
      "[2.  3.  1.5 5.  3.5 7. ]\n"
     ]
    }
   ],
   "source": [
    "print('\\nMinimum over whole matrix:')\n",
    "print(x.min())           #returns 0\n",
    "\n",
    "print('\\nMinimum (over rows) for each column:')\n",
    "print(x.min(axis=0))     #returns [1, 2, 0, 4, 0, 6] - the vector which contains the minimum value in each column\n",
    "                         # axis=0 means we will do minimum across rows, i.e. will get minimum for each COLUMN\n",
    "\n",
    "print('\\nMinimum (over columns) for each row:')\n",
    "print(x.min(axis=1))     #returns [0, 0] - the vector which contains the minimum value in each row\n",
    "                         # axis=1 means we will do minimum across columns, i.e. will get minimum for each ROW\n",
    "    \n",
    "print('\\nSum over whole matrix:')\n",
    "print(x.sum())           # sum of all elements in x\n",
    "\n",
    "print('\\nSum (over rows) for each column:')\n",
    "print(x.sum(axis=0))     # sum of elements over rows, i.e. sum for each column\n",
    "\n",
    "print('\\nMean over whole matrix:')\n",
    "print(x.mean())                # mean of x\n",
    "print('\\nMean (over rows for each column:')\n",
    "print(x.mean(axis=0))          # mean of x over rows, i.e. mean of each column"
   ]
  },
  {
   "cell_type": "markdown",
   "metadata": {},
   "source": [
    "## Reshaping and resizing\n",
    "\n",
    "Converting a matrix to vector or vice versa"
   ]
  },
  {
   "cell_type": "code",
   "execution_count": 39,
   "metadata": {},
   "outputs": [
    {
     "name": "stdout",
     "output_type": "stream",
     "text": [
      "Becomes a 3x3 matrix:\n",
      "[[1 2 3]\n",
      " [4 5 6]\n",
      " [7 8 9]]\n"
     ]
    }
   ],
   "source": [
    "M = np.array([1,2,3,4,5,6,7,8,9]).reshape(3,3) # create a 3x3 matrix\n",
    "print('Becomes a 3x3 matrix:\\n{}'.format(M))"
   ]
  },
  {
   "cell_type": "code",
   "execution_count": 40,
   "metadata": {},
   "outputs": [
    {
     "name": "stdout",
     "output_type": "stream",
     "text": [
      "\n",
      "Reshape back to a vector: [1 2 3 4 5 6 7 8 9]\n"
     ]
    }
   ],
   "source": [
    "v = M.reshape(9) # reshape the 3x3 matrix into a one dimensional array containing 9 columns\n",
    "print('\\nReshape back to a vector: {}'.format(v))"
   ]
  },
  {
   "cell_type": "code",
   "execution_count": 41,
   "metadata": {},
   "outputs": [
    {
     "name": "stdout",
     "output_type": "stream",
     "text": [
      "line failed with exception: cannot reshape array of size 9 into shape (8,)\n"
     ]
    }
   ],
   "source": [
    "try:\n",
    "    v = M.reshape(8) # We will get error message. \"cannot reshape array\"\n",
    "except Exception as e:\n",
    "    print('line failed with exception: {}'.format(e))\n",
    "    "
   ]
  },
  {
   "cell_type": "markdown",
   "metadata": {},
   "source": [
    "## Adding a new dimension\n",
    "\n",
    "np.newaxis is just an alias for None to try and make it clearer what you are doing"
   ]
  },
  {
   "cell_type": "code",
   "execution_count": 42,
   "metadata": {},
   "outputs": [
    {
     "name": "stdout",
     "output_type": "stream",
     "text": [
      "v is 1-D array with shape (5,) and elements [1 2 3 4 5]\n",
      "\n",
      "v_row is 2-D array with shape (1, 5) and elements [[1 2 3 4 5]]\n",
      "\n",
      "v_col is 2-D array with shape (3, 1) and elements:\n",
      "[[1]\n",
      " [2]\n",
      " [3]]\n",
      "\n"
     ]
    }
   ],
   "source": [
    "v = np.array([1,2,3,4,5])\n",
    "print('v is 1-D array with shape {} and elements {}\\n'.format(v.shape, v))\n",
    "\n",
    "v_row = v[np.newaxis, :]   # : means we are taking all the elements of v for new row element      \n",
    "print('v_row is 2-D array with shape {} and elements {}\\n'.format(v_row.shape, v_row))\n",
    "\n",
    "v_col = v[0:3, None]  # 0:3 means we are just taking first three elements of v\n",
    "print('v_col is 2-D array with shape {} and elements:\\n{}\\n'.format(v_col.shape, v_col))\n"
   ]
  },
  {
   "cell_type": "markdown",
   "metadata": {},
   "source": [
    "### Stacking arrays\n",
    "\n",
    "Arrays can be stacked horizontally or vertically. Make sure the dimensions are compatible.\n"
   ]
  },
  {
   "cell_type": "code",
   "execution_count": 43,
   "metadata": {},
   "outputs": [
    {
     "name": "stdout",
     "output_type": "stream",
     "text": [
      "\n",
      "x has shape (2, 3) and elements:\n",
      "[[1. 1. 1.]\n",
      " [1. 1. 1.]]\n",
      "\n",
      "y has shape (2, 2) and elements:\n",
      "[[0. 0.]\n",
      " [0. 0.]]\n",
      "\n",
      "Same numbers of rows so we can stack horizontally, shape (2, 8), elements:\n",
      "[[1. 1. 1. 0. 0. 1. 1. 1.]\n",
      " [1. 1. 1. 0. 0. 1. 1. 1.]]\n"
     ]
    }
   ],
   "source": [
    "x = np.ones((2,3))\n",
    "print('\\nx has shape {} and elements:\\n{}'.format(x.shape, x))\n",
    "y = np.zeros((2,2))\n",
    "print('\\ny has shape {} and elements:\\n{}'.format(y.shape, y))\n",
    "\n",
    "z = np.hstack((x, y, x))       # Stacking arrays horizontally\n",
    "                               # Arrays are passed as a tuple\n",
    "print('\\nSame numbers of rows so we can stack horizontally, shape {}, elements:\\n{}'\n",
    "      .format(z.shape, z))"
   ]
  },
  {
   "cell_type": "code",
   "execution_count": 44,
   "metadata": {},
   "outputs": [
    {
     "name": "stdout",
     "output_type": "stream",
     "text": [
      "\n",
      "x has shape (2, 2) and elements:\n",
      "[[1. 1.]\n",
      " [1. 1.]]\n",
      "\n",
      "y has shape (1, 2) and elements:\n",
      "[[0. 0.]]\n",
      "\n",
      "Same numbers of columns so we can stack vertically, shape (3, 2), elements:\n",
      "[[1. 1.]\n",
      " [1. 1.]\n",
      " [0. 0.]]\n"
     ]
    }
   ],
   "source": [
    "x = np.ones((2,2))\n",
    "print('\\nx has shape {} and elements:\\n{}'.format(x.shape, x))\n",
    "\n",
    "y = np.zeros((1,2))\n",
    "print('\\ny has shape {} and elements:\\n{}'.format(y.shape, y))\n",
    "\n",
    "z = np.vstack((x,y))     # Stacking the arrays vertically\n",
    "print('\\nSame numbers of columns so we can stack vertically, shape {}, elements:\\n{}'\n",
    "      .format(z.shape, z))"
   ]
  },
  {
   "cell_type": "markdown",
   "metadata": {},
   "source": [
    "## Duplicating array using tile and repeat\n",
    "\n",
    "**Tile** replicates the matrix as a whole\n",
    "\n",
    "**Repeat** repeats elements within the matrix"
   ]
  },
  {
   "cell_type": "code",
   "execution_count": 45,
   "metadata": {},
   "outputs": [
    {
     "name": "stdout",
     "output_type": "stream",
     "text": [
      "\n",
      "x has shape (2, 2) and elements:\n",
      "[[1 2]\n",
      " [3 4]]\n",
      "\n",
      "y has shape (2, 2) and elements:\n",
      "[[1 2]\n",
      " [3 4]]\n",
      "\n",
      "y has shape (8, 4) and elements:\n",
      "[[1 2 1 2]\n",
      " [3 4 3 4]\n",
      " [1 2 1 2]\n",
      " [3 4 3 4]\n",
      " [1 2 1 2]\n",
      " [3 4 3 4]\n",
      " [1 2 1 2]\n",
      " [3 4 3 4]]\n"
     ]
    }
   ],
   "source": [
    "x = np.array([[1,2],[3,4]])\n",
    "print('\\nx has shape {} and elements:\\n{}'.format(x.shape, x))\n",
    "\n",
    "y = np.tile(x, ())         # repeat x three times\n",
    "print('\\ny has shape {} and elements:\\n{}'.format(y.shape, y))\n",
    "\n",
    "y = np.tile(x, (4, 2))         # repeat x 4 times on row axis, 2 on col axis\n",
    "print('\\ny has shape {} and elements:\\n{}'.format(y.shape, y))\n"
   ]
  },
  {
   "cell_type": "code",
   "execution_count": 46,
   "metadata": {},
   "outputs": [
    {
     "name": "stdout",
     "output_type": "stream",
     "text": [
      "\n",
      "x has shape (2, 2) and elements:\n",
      "[[1 2]\n",
      " [3 4]]\n",
      "\n",
      "a has shape (16,) (axis not specified so flattens array) and elements:\n",
      "[1 1 1 1 2 2 2 2 3 3 3 3 4 4 4 4]\n",
      "\n",
      "b has shape (2, 8) (repeats along col axis, row axis same) and elements:\n",
      "[[1 1 1 1 2 2 2 2]\n",
      " [3 3 3 3 4 4 4 4]]\n",
      "\n",
      "c has shape (8, 2) (repeats along row axis, col axis same) and elements:\n",
      "[[1 2]\n",
      " [1 2]\n",
      " [1 2]\n",
      " [1 2]\n",
      " [3 4]\n",
      " [3 4]\n",
      " [3 4]\n",
      " [3 4]]\n"
     ]
    }
   ],
   "source": [
    "x = np.array([[1,2],[3,4]])\n",
    "print('\\nx has shape {} and elements:\\n{}'.format(x.shape, x))\n",
    "\n",
    "a=np.repeat(x, 4)            # repeat each element 4 times. Does not preserve the shape/dimension\n",
    "print('\\na has shape {} (axis not specified so flattens array) and elements:\\n{}'\n",
    "      .format(a.shape, a))\n",
    "\n",
    "b=np.repeat(x, 4, axis=1)    # repeat each element 4 times preserving dimension \n",
    "print('\\nb has shape {} (repeats along col axis, row axis same) and elements:\\n{}'\n",
    "      .format(b.shape, b))\n",
    "\n",
    "c=np.repeat(x, 4, axis=0)    # repeat each element 4 times preserving dimension \n",
    "print('\\nc has shape {} (repeats along row axis, col axis same) and elements:\\n{}'\n",
    "      .format(c.shape, c))"
   ]
  },
  {
   "cell_type": "markdown",
   "metadata": {},
   "source": [
    "## Copying in python (this is very important!)\n",
    "\n",
    "By default, arrays in python are handled by reference. This means that when you do A=B you are just copying a reference to the memory, rather than creating another instance of the data. Therefore any changes you make on B will actually be reflected in A.\n"
   ]
  },
  {
   "cell_type": "code",
   "execution_count": 47,
   "metadata": {},
   "outputs": [
    {
     "name": "stdout",
     "output_type": "stream",
     "text": [
      "We changed B: [10  2  3  4  5  6], but A also changed [10  2  3  4  5  6]\n",
      " ... because memory address of B=4768800208 is same as address of A=4768800208\n"
     ]
    }
   ],
   "source": [
    "A = np.array([1,2,3,4,5,6])\n",
    "B = A\n",
    "B[0] = 10\n",
    "print('We changed B: {}, but A also changed {}'.format(B, A))\n",
    "print(' ... because memory address of B={} is same as address of A={}'.format(id(B), id(A)))"
   ]
  },
  {
   "cell_type": "markdown",
   "metadata": {},
   "source": [
    "Note, this is also true for Python lists and objects in general"
   ]
  },
  {
   "cell_type": "code",
   "execution_count": 48,
   "metadata": {},
   "outputs": [
    {
     "name": "stdout",
     "output_type": "stream",
     "text": [
      "[10, 2, 3, 4]\n"
     ]
    }
   ],
   "source": [
    "A = [1,2,3,4]\n",
    "B = A\n",
    "B[0] = 10\n",
    "print(A)"
   ]
  },
  {
   "cell_type": "markdown",
   "metadata": {},
   "source": [
    "## Deep copy using the copy() method\n",
    "\n",
    "To actually copy the data stored in the array, you can use the numpy copy method."
   ]
  },
  {
   "cell_type": "code",
   "execution_count": 49,
   "metadata": {},
   "outputs": [
    {
     "name": "stdout",
     "output_type": "stream",
     "text": [
      "We changed B: [10  2  3  4], but this time A did not change [1 2 3 4]\n",
      " ... because memory address of B=4768794256 is not same as address of A=4768800496\n"
     ]
    }
   ],
   "source": [
    "A = np.array([1, 2, 3, 4])\n",
    "B = A.copy()                     # can also write, B = np.copy(A)\n",
    "\n",
    "B[0] = 10\n",
    "print('We changed B: {}, but this time A did not change {}'.format(B, A))\n",
    "print(' ... because memory address of B={} is not same as address of A={}'.format(id(B), id(A)))"
   ]
  },
  {
   "cell_type": "code",
   "execution_count": null,
   "metadata": {},
   "outputs": [],
   "source": []
  },
  {
   "cell_type": "markdown",
   "metadata": {},
   "source": [
    "To copy Python lists of basic types we can similarly use list copy() function:"
   ]
  },
  {
   "cell_type": "code",
   "execution_count": 50,
   "metadata": {},
   "outputs": [
    {
     "name": "stdout",
     "output_type": "stream",
     "text": [
      "[1, 2, 3, 4] [10, 2, 3, 4]\n"
     ]
    }
   ],
   "source": [
    "A = [1,2,3,4]\n",
    "B = A.copy()\n",
    "B[0] = 10\n",
    "print(A, B)"
   ]
  },
  {
   "cell_type": "markdown",
   "metadata": {},
   "source": [
    "## Operations in Matrix\n",
    "\n",
    "Numpy supports different array operations such as \n",
    " * addition, subtraction, multiplication, division;\n",
    " * transpose, inverse etc"
   ]
  },
  {
   "cell_type": "markdown",
   "metadata": {},
   "source": [
    "### Array addition and substraction"
   ]
  },
  {
   "cell_type": "code",
   "execution_count": 51,
   "metadata": {},
   "outputs": [
    {
     "name": "stdout",
     "output_type": "stream",
     "text": [
      "[[2. 3. 4.]\n",
      " [5. 6. 7.]]\n",
      "[[-1.  0.  1.]\n",
      " [ 2.  3.  4.]]\n",
      "[[3 4 5]\n",
      " [6 7 8]]\n"
     ]
    }
   ],
   "source": [
    "X = np.array([[1, 2, 3], [4, 5, 6]])\n",
    "Y = np.ones((2,3))\n",
    "\n",
    "print(X+Y)                     # Element wise adds X and Y\n",
    "\n",
    "print(X - 2 * Y)                      # Multiply each element of Y by 2 and then subtract \n",
    "                               # with every elements of X\n",
    "\n",
    "# note, scalar multiplication\n",
    "print(X + np.array([[2,2,2],[2,2,2]]))  # perform addition element wise"
   ]
  },
  {
   "cell_type": "markdown",
   "metadata": {},
   "source": [
    "## Matrix multiplication\n",
    "\n",
    "### Element wise multiplication"
   ]
  },
  {
   "cell_type": "code",
   "execution_count": 52,
   "metadata": {},
   "outputs": [],
   "source": [
    "A = np.array([[1,2,3],[4,5,6]])\n",
    "B = np.array([[3,3,3],[4,4,4]])"
   ]
  },
  {
   "cell_type": "code",
   "execution_count": 53,
   "metadata": {},
   "outputs": [],
   "source": [
    "C = A * B           # element wise multiplication"
   ]
  },
  {
   "cell_type": "code",
   "execution_count": 54,
   "metadata": {},
   "outputs": [
    {
     "name": "stdout",
     "output_type": "stream",
     "text": [
      "[[ 3  6  9]\n",
      " [16 20 24]]\n"
     ]
    }
   ],
   "source": [
    "print(C)"
   ]
  },
  {
   "cell_type": "markdown",
   "metadata": {},
   "source": [
    "### Standard matrix multiplication"
   ]
  },
  {
   "cell_type": "code",
   "execution_count": 55,
   "metadata": {},
   "outputs": [],
   "source": [
    "D = np.dot(A, B.T)  # A = (2,3), B.T = (3,2)\n",
    "                    # Performs standard matrix multiplication\n",
    "                    # Number of columns in A must match number of Rows in B"
   ]
  },
  {
   "cell_type": "code",
   "execution_count": 56,
   "metadata": {},
   "outputs": [
    {
     "name": "stdout",
     "output_type": "stream",
     "text": [
      "[[18 24]\n",
      " [45 60]]\n"
     ]
    }
   ],
   "source": [
    "print(D)"
   ]
  },
  {
   "cell_type": "markdown",
   "metadata": {},
   "source": [
    "## Transpose\n",
    "\n",
    "Transpose operation reverses the dimensions."
   ]
  },
  {
   "cell_type": "code",
   "execution_count": 57,
   "metadata": {},
   "outputs": [
    {
     "name": "stdout",
     "output_type": "stream",
     "text": [
      "[[1 2 3]\n",
      " [4 5 6]]\n",
      "-----------\n",
      "[[1 4]\n",
      " [2 5]\n",
      " [3 6]]\n",
      "(2, 3)\n",
      "-----------\n",
      "(3, 2)\n",
      "[1 2 3 4 5]\n",
      "-----------\n",
      "[1 2 3 4 5]\n",
      "-----------\n",
      "(5,)\n",
      "-----------\n",
      "(5,)\n"
     ]
    }
   ],
   "source": [
    "A = np.array([[1,2,3],[4,5,6]])\n",
    "print(A)\n",
    "print('-----------')\n",
    "print(A.T)        # Take transpose of A. Just use .T\n",
    "                  # Rows of A now becomes columns\n",
    "\n",
    "print(A.shape)     # prints (2,3)\n",
    "print('-----------')\n",
    "print(A.T.shape)   # (3,2)\n",
    "\n",
    "v = np.array([1,2,3,4,5])\n",
    "print(v)\n",
    "print('-----------')\n",
    "print(v.T)\n",
    "print('-----------')\n",
    "# Vectors only have one dimension. Transpose does nothing.\n",
    "print(v.shape)     # prints (5,)\n",
    "print('-----------')\n",
    "print(v.T.shape)   # prints (5,)"
   ]
  },
  {
   "cell_type": "markdown",
   "metadata": {},
   "source": [
    "## Inverse of a matrix\n",
    "\n",
    "The linalg submodule provides functions to compute matrix determinant and inverse."
   ]
  },
  {
   "cell_type": "code",
   "execution_count": 58,
   "metadata": {},
   "outputs": [
    {
     "name": "stdout",
     "output_type": "stream",
     "text": [
      "[[2 1]\n",
      " [3 2]]\n",
      "-----------\n",
      "0.9999999999999998\n",
      "-----------\n",
      "[[ 2. -1.]\n",
      " [-3.  2.]]\n"
     ]
    }
   ],
   "source": [
    "A = np.array([[2,1],[3,2]])\n",
    "print(A)\n",
    "print('-----------')\n",
    "\n",
    "det_A = np.linalg.det(A)\n",
    "print(det_A)\n",
    "print('-----------')\n",
    "\n",
    "inv_A = np.linalg.inv(A)\n",
    "print(inv_A)"
   ]
  },
  {
   "cell_type": "code",
   "execution_count": 59,
   "metadata": {},
   "outputs": [
    {
     "name": "stdout",
     "output_type": "stream",
     "text": [
      "[[1. 0.]\n",
      " [0. 1.]]\n"
     ]
    }
   ],
   "source": [
    "print(np.dot(A,inv_A)) # Recovers the identity matrix"
   ]
  },
  {
   "cell_type": "markdown",
   "metadata": {},
   "source": [
    "## Documentation and manual\n",
    "\n",
    " * Full documentation available here: http://docs.scipy.org/doc/numpy/"
   ]
  }
 ],
 "metadata": {
  "kernelspec": {
   "display_name": "base",
   "language": "python",
   "name": "python3"
  },
  "language_info": {
   "codemirror_mode": {
    "name": "ipython",
    "version": 3
   },
   "file_extension": ".py",
   "mimetype": "text/x-python",
   "name": "python",
   "nbconvert_exporter": "python",
   "pygments_lexer": "ipython3",
   "version": "3.12.2"
  }
 },
 "nbformat": 4,
 "nbformat_minor": 2
}
