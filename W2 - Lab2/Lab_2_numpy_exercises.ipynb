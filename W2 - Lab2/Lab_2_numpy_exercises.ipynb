{
 "cells": [
  {
   "cell_type": "markdown",
   "metadata": {},
   "source": [
    "# ECS784: Part of Lab 2\n",
    "\n",
    "# Some basic programming exercises on numpy"
   ]
  },
  {
   "cell_type": "code",
   "execution_count": 1,
   "metadata": {},
   "outputs": [],
   "source": [
    "import numpy as np"
   ]
  },
  {
   "cell_type": "markdown",
   "metadata": {},
   "source": [
    "#### 1. Create a vector 'int_vector' (1 dimensional array) and fill it with 10 random integers."
   ]
  },
  {
   "cell_type": "code",
   "execution_count": 2,
   "metadata": {},
   "outputs": [
    {
     "name": "stdout",
     "output_type": "stream",
     "text": [
      "[96 23 51 62 90 84 35 47 85 91]\n"
     ]
    }
   ],
   "source": [
    "int_vector = np.random.randint(10, 100, 10) # returns 10 random integers between 10 and 100\n",
    "print(int_vector)"
   ]
  },
  {
   "cell_type": "markdown",
   "metadata": {},
   "source": [
    "#### 2. Create a vector 'rand_vector' and fill it with 10 random values ranging between 0 and 1"
   ]
  },
  {
   "cell_type": "code",
   "execution_count": 3,
   "metadata": {},
   "outputs": [
    {
     "name": "stdout",
     "output_type": "stream",
     "text": [
      "[0.76712785 0.29490787 0.01759973 0.46029058 0.51081097 0.7936829\n",
      " 0.59700347 0.05255189 0.6722148  0.88393551]\n"
     ]
    }
   ],
   "source": [
    "rand_vector = np.random.rand((10))\n",
    "print(rand_vector)"
   ]
  },
  {
   "cell_type": "markdown",
   "metadata": {},
   "source": [
    "#### 3. Find the smallest and largest elements in int_vector created at step 1. \n",
    " * Do this with and without using the numpy in-built function.\n",
    " "
   ]
  },
  {
   "cell_type": "code",
   "execution_count": 4,
   "metadata": {},
   "outputs": [],
   "source": [
    "def max_min(data):\n",
    "    \"\"\"\n",
    "    Find the maximum and minimum elements in a vector without using any in-built function\n",
    "    \"\"\"\n",
    "\n",
    "    large = small = data[0] # retrieve the first element as a reference\n",
    "    for i in range(1, len(data)):\n",
    "        if data[i] > large:\n",
    "            large = data[i]\n",
    "        if data[i] < small:\n",
    "            small = data[i]\n",
    "    \n",
    "    return large, small\n",
    "\n",
    "def max_min_2(data):\n",
    "    \"\"\"\n",
    "    Find the maximum and minimum elements in a vector using in-built function\n",
    "    \"\"\"\n",
    "    return np.max(data), np.min(data)"
   ]
  },
  {
   "cell_type": "code",
   "execution_count": 5,
   "metadata": {},
   "outputs": [
    {
     "data": {
      "text/plain": [
       "(96, 23)"
      ]
     },
     "execution_count": 5,
     "metadata": {},
     "output_type": "execute_result"
    }
   ],
   "source": [
    "# Call the manual based max_min function\n",
    "max_min(int_vector)"
   ]
  },
  {
   "cell_type": "code",
   "execution_count": 6,
   "metadata": {},
   "outputs": [
    {
     "data": {
      "text/plain": [
       "(96, 23)"
      ]
     },
     "execution_count": 6,
     "metadata": {},
     "output_type": "execute_result"
    }
   ],
   "source": [
    "# Call the in-built-based function\n",
    "max_min_2(int_vector)"
   ]
  },
  {
   "cell_type": "markdown",
   "metadata": {},
   "source": [
    "#### 4. Create a vector 'vect1' with 9 elements equally spaced between 10 and 100  "
   ]
  },
  {
   "cell_type": "code",
   "execution_count": 7,
   "metadata": {},
   "outputs": [
    {
     "name": "stdout",
     "output_type": "stream",
     "text": [
      "[ 10.    21.25  32.5   43.75  55.    66.25  77.5   88.75 100.  ]\n"
     ]
    }
   ],
   "source": [
    "vect1 = np.linspace(10, 100, 9)\n",
    "print(vect1)"
   ]
  },
  {
   "cell_type": "markdown",
   "metadata": {
    "collapsed": true
   },
   "source": [
    "#### 5. Create a 4x4 matrix 'mat1' that has 1 in its diagonal entries and 0 in the remaining entries."
   ]
  },
  {
   "cell_type": "code",
   "execution_count": 8,
   "metadata": {},
   "outputs": [
    {
     "name": "stdout",
     "output_type": "stream",
     "text": [
      "[[1 0 0 0]\n",
      " [0 1 0 0]\n",
      " [0 0 1 0]\n",
      " [0 0 0 1]]\n"
     ]
    }
   ],
   "source": [
    "mat1 = np.diag((1, 1, 1, 1))\n",
    "print(mat1)"
   ]
  },
  {
   "cell_type": "code",
   "execution_count": 9,
   "metadata": {},
   "outputs": [
    {
     "name": "stdout",
     "output_type": "stream",
     "text": [
      "[[1. 0. 0. 0.]\n",
      " [0. 1. 0. 0.]\n",
      " [0. 0. 1. 0.]\n",
      " [0. 0. 0. 1.]]\n"
     ]
    }
   ],
   "source": [
    "# Or, we could also do it this way\n",
    "mat1_a = np.eye(4)\n",
    "print(mat1_a) # However, the default data type here is float not integer"
   ]
  },
  {
   "cell_type": "markdown",
   "metadata": {
    "collapsed": true
   },
   "source": [
    "#### 6. Create a 5x5 matrix 'mat2' that is populated with random numbers ranging between 0 and 1"
   ]
  },
  {
   "cell_type": "code",
   "execution_count": 10,
   "metadata": {},
   "outputs": [
    {
     "name": "stdout",
     "output_type": "stream",
     "text": [
      "[[0.36667614 0.13147992 0.78687303 0.68556386 0.54825461]\n",
      " [0.61154107 0.13643413 0.22570061 0.96150592 0.59082773]\n",
      " [0.70950815 0.10343735 0.19288141 0.12530379 0.06576769]\n",
      " [0.9064176  0.47724466 0.49253866 0.12878909 0.57737878]\n",
      " [0.65507166 0.57956365 0.7080379  0.47421799 0.31329092]]\n"
     ]
    }
   ],
   "source": [
    "mat2 = np.random.rand(5, 5)\n",
    "print(mat2)"
   ]
  },
  {
   "cell_type": "markdown",
   "metadata": {},
   "source": [
    "#### 7. Save the contents of 'mat2' into a CSV file called 'mat2.csv'. Preserve 6 values after the decimal point. Then, read the contents of the CSV file 'mat2.csv' and print its contents."
   ]
  },
  {
   "cell_type": "code",
   "execution_count": 11,
   "metadata": {},
   "outputs": [],
   "source": [
    "# save with 6 decimal points\n",
    "np.savetxt(\"mat2.csv\", mat2, delimiter=\",\", fmt=\"%.6f\")"
   ]
  },
  {
   "cell_type": "code",
   "execution_count": 12,
   "metadata": {},
   "outputs": [],
   "source": [
    "# Read the contents of the CSV file into mat2_data\n",
    "mat2_data = np.genfromtxt(\"mat2.csv\", delimiter=\",\")"
   ]
  },
  {
   "cell_type": "code",
   "execution_count": 13,
   "metadata": {},
   "outputs": [
    {
     "name": "stdout",
     "output_type": "stream",
     "text": [
      "[[0.366676 0.13148  0.786873 0.685564 0.548255]\n",
      " [0.611541 0.136434 0.225701 0.961506 0.590828]\n",
      " [0.709508 0.103437 0.192881 0.125304 0.065768]\n",
      " [0.906418 0.477245 0.492539 0.128789 0.577379]\n",
      " [0.655072 0.579564 0.708038 0.474218 0.313291]]\n"
     ]
    }
   ],
   "source": [
    "# Print the contents of mat2_data\n",
    "print(mat2_data)"
   ]
  },
  {
   "cell_type": "markdown",
   "metadata": {},
   "source": [
    "#### 8. Define a function called 'operation' that takes three inputs: data1, data2 and operationType\n",
    " * data1 and data2 can be a scalar, vector or matrix.\n",
    " * operationType should be a string.\n",
    " * The function should expect one of the following as an input for operationType: \"add\", \"subtract\", \"multiply\", \"divide\".\n",
    " * It should then perform the given operation."
   ]
  },
  {
   "cell_type": "code",
   "execution_count": 14,
   "metadata": {},
   "outputs": [],
   "source": [
    "def operation(data1, data2, operationType):\n",
    "\n",
    "    if operationType == 'add':\n",
    "        result = data1 + data2\n",
    "    elif operationType == 'subtract':\n",
    "        result = data1 - data2\n",
    "    elif operationType == 'multiply':\n",
    "        result = data1 * data2\n",
    "    elif operationType == 'divide':\n",
    "        result = data1 / data2\n",
    "    return result"
   ]
  },
  {
   "cell_type": "markdown",
   "metadata": {},
   "source": [
    "#### 9. Test the function 'operation' for different operations (say, add, multiply) on the following inputs \n",
    " * Two vectors 'rand_v1' and 'rand_v2' containing four random elements between 1 and 10, and 1 and 50 respectively.\n",
    " * Call the function this way: operation(rand_v1, rand_v2, 'add')\n",
    " * Print the two vectors along with the result of the operation."
   ]
  },
  {
   "cell_type": "code",
   "execution_count": 15,
   "metadata": {},
   "outputs": [
    {
     "name": "stdout",
     "output_type": "stream",
     "text": [
      "[9 1 4 1]\n",
      "[23 13 31 24]\n",
      "[32 14 35 25]\n"
     ]
    }
   ],
   "source": [
    "# testing addition\n",
    "rand_v1 = np.random.randint(1, 10, 4)\n",
    "rand_v2 = np.random.randint(1, 50, 4)\n",
    "result = operation(rand_v1, rand_v2, 'add')\n",
    "\n",
    "print(rand_v1)\n",
    "print(rand_v2)\n",
    "\n",
    "print(result)"
   ]
  },
  {
   "cell_type": "markdown",
   "metadata": {},
   "source": [
    "#### 10. Create a numpy vector comprising of 25 elements randomly drawn from a standard normal distribution. Then, convert it into a two dimensional 5 x 5 matrix called 'mat5x5' and print the matrix. \n"
   ]
  },
  {
   "cell_type": "code",
   "execution_count": 16,
   "metadata": {},
   "outputs": [
    {
     "name": "stdout",
     "output_type": "stream",
     "text": [
      "[[ 1.01287159  2.13089114 -0.93684057 -0.73510377 -0.94591583]\n",
      " [-0.63055043  0.13056045 -0.23137938 -0.56875446  1.41355133]\n",
      " [ 0.19286896 -0.88437818 -0.72097533 -0.35339192  0.11666879]\n",
      " [-1.15818788  1.43935773 -0.49086781  0.08538834  0.48100115]\n",
      " [ 1.011208    1.6340039  -1.82316859  0.44953958 -0.60802615]]\n"
     ]
    }
   ],
   "source": [
    "mat5x5 = np.random.standard_normal(25).reshape(5, 5)\n",
    "print(mat5x5)"
   ]
  },
  {
   "cell_type": "code",
   "execution_count": 17,
   "metadata": {},
   "outputs": [
    {
     "name": "stdout",
     "output_type": "stream",
     "text": [
      "(5, 5)\n"
     ]
    }
   ],
   "source": [
    "# check if it is a two dimensional 5 x 5 matrix\n",
    "print(mat5x5.shape)"
   ]
  },
  {
   "cell_type": "markdown",
   "metadata": {},
   "source": [
    "#### 11. Compute the following statistics for the matrix mat5x5:\n",
    " * a) Global mean and mean across each dimension\n",
    " * b) Global variance and variance across each dimension\n",
    " "
   ]
  },
  {
   "cell_type": "code",
   "execution_count": 18,
   "metadata": {},
   "outputs": [
    {
     "name": "stdout",
     "output_type": "stream",
     "text": [
      "Global mean:  0.00041482529076763085\n",
      "Mean across each dimension\n",
      "  [ 0.08564205  0.89008701 -0.84064634 -0.22446445  0.09145586]\n"
     ]
    }
   ],
   "source": [
    "# Global mean and mean across each dimension\n",
    "global_mean = np.mean(mat5x5)\n",
    "print('Global mean: ', global_mean)\n",
    "\n",
    "dimension_mean = np.mean(mat5x5, axis = 0)\n",
    "print('Mean across each dimension\\n ', dimension_mean)"
   ]
  },
  {
   "cell_type": "code",
   "execution_count": 19,
   "metadata": {},
   "outputs": [
    {
     "name": "stdout",
     "output_type": "stream",
     "text": [
      "Global variance:  0.9451123039142526\n",
      "Variance across each dimension \n",
      " [0.75759382 1.22406257 0.29649514 0.18924012 0.69314655]\n"
     ]
    }
   ],
   "source": [
    "# Global variance and variance across each dimension\n",
    "global_var = np.var(mat5x5)\n",
    "print('Global variance: ', global_var)\n",
    "\n",
    "dimension_var = np.var(mat5x5, axis = 0)\n",
    "print('Variance across each dimension \\n', dimension_var)"
   ]
  }
 ],
 "metadata": {
  "kernelspec": {
   "display_name": "base",
   "language": "python",
   "name": "python3"
  },
  "language_info": {
   "codemirror_mode": {
    "name": "ipython",
    "version": 3
   },
   "file_extension": ".py",
   "mimetype": "text/x-python",
   "name": "python",
   "nbconvert_exporter": "python",
   "pygments_lexer": "ipython3",
   "version": "3.12.2"
  }
 },
 "nbformat": 4,
 "nbformat_minor": 2
}
