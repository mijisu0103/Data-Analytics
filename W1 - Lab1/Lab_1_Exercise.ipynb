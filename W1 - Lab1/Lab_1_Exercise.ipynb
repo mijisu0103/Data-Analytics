{
 "cells": [
  {
   "cell_type": "markdown",
   "metadata": {},
   "source": [
    "# Lab 1 Exercise"
   ]
  },
  {
   "cell_type": "markdown",
   "metadata": {},
   "source": [
    "### 1. Create a list ‘data’ comprising of N (say 10) numbers (integers and floating-point numbers). Display all the elements of the list created."
   ]
  },
  {
   "cell_type": "code",
   "execution_count": 1,
   "metadata": {},
   "outputs": [
    {
     "name": "stdout",
     "output_type": "stream",
     "text": [
      "[10, 20, 30, 4.0, 5, 6, 7.0, 8, 9, 1.0]\n"
     ]
    }
   ],
   "source": [
    "data = [10, 20, 30, 4.0, 5, 6, 7.0, 8, 9, 1.0]\n",
    "print(data)"
   ]
  },
  {
   "cell_type": "markdown",
   "metadata": {
    "vscode": {
     "languageId": "plaintext"
    }
   },
   "source": [
    "---"
   ]
  },
  {
   "cell_type": "markdown",
   "metadata": {
    "vscode": {
     "languageId": "plaintext"
    }
   },
   "source": [
    "### 2. Loop demonstration: Compute the sum and the mean of the elements in the ‘data’ list without using any in-built function. (E.g., you could use for-loop)"
   ]
  },
  {
   "cell_type": "code",
   "execution_count": 2,
   "metadata": {},
   "outputs": [
    {
     "name": "stdout",
     "output_type": "stream",
     "text": [
      "Sum = 100 and mean = 10.00\n"
     ]
    }
   ],
   "source": [
    "sum_list = 0\n",
    "avg_list = 0\n",
    "\n",
    "for item in data:\n",
    "    sum_list += item\n",
    "\n",
    "avg_list = sum_list / len(data)\n",
    "print(\"Sum = %d and mean = %.2f\" %(sum_list, avg_list))"
   ]
  },
  {
   "cell_type": "markdown",
   "metadata": {
    "vscode": {
     "languageId": "plaintext"
    }
   },
   "source": [
    "---"
   ]
  },
  {
   "cell_type": "markdown",
   "metadata": {
    "vscode": {
     "languageId": "plaintext"
    }
   },
   "source": [
    "### 3. Implement step 2 by defining your own function for computing the sum of all elements in the list and the mean of the list. [refer to Section 2.5]"
   ]
  },
  {
   "cell_type": "code",
   "execution_count": 3,
   "metadata": {},
   "outputs": [],
   "source": [
    "def sum_and_avg(data_list):\n",
    "    \"\"\"\n",
    "    Computes sum and average of the number in the data_list and returns it to the caller\n",
    "    \"\"\"\n",
    "\n",
    "    sum_list = 0\n",
    "    avg_list = 0\n",
    "\n",
    "    for item in data_list:\n",
    "        sum_list += item\n",
    "    avg_list = sum_list / len(data_list)\n",
    "\n",
    "    return sum_list, avg_list"
   ]
  },
  {
   "cell_type": "code",
   "execution_count": 4,
   "metadata": {},
   "outputs": [
    {
     "name": "stdout",
     "output_type": "stream",
     "text": [
      "Sum = 100.0 and average = 10.0\n"
     ]
    }
   ],
   "source": [
    "ssum, avg = sum_and_avg(data)\n",
    "print(\"Sum = \" + str(ssum) + \" and average = \" + str(avg))"
   ]
  },
  {
   "cell_type": "markdown",
   "metadata": {},
   "source": [
    "---"
   ]
  },
  {
   "cell_type": "markdown",
   "metadata": {
    "vscode": {
     "languageId": "plaintext"
    }
   },
   "source": [
    "### 4. Reverse all the elements in the list ‘data’ without using the reverse function. Hint: use list slicing and loop."
   ]
  },
  {
   "cell_type": "code",
   "execution_count": 5,
   "metadata": {},
   "outputs": [
    {
     "name": "stdout",
     "output_type": "stream",
     "text": [
      "The list data contains following elements \n",
      "\n",
      "[10, 20, 30, 4.0, 5, 6, 7.0, 8, 9, 1.0]\n"
     ]
    }
   ],
   "source": [
    "# Print the contents of 'data'\n",
    "print(\"The list data contains following elements \\n\")\n",
    "print(data)"
   ]
  },
  {
   "cell_type": "code",
   "execution_count": 6,
   "metadata": {},
   "outputs": [
    {
     "name": "stdout",
     "output_type": "stream",
     "text": [
      "[1.0, 9, 8, 7.0, 6, 5, 4.0, 30, 20, 10]\n"
     ]
    }
   ],
   "source": [
    "# Reverse the list using slicing\n",
    "\n",
    "reversed_data = data[::-1]\n",
    "print(reversed_data)"
   ]
  },
  {
   "cell_type": "code",
   "execution_count": 7,
   "metadata": {},
   "outputs": [
    {
     "name": "stdout",
     "output_type": "stream",
     "text": [
      "[1.0, 1.0, 1.0, 1.0, 1.0, 1.0, 1.0, 1.0, 1.0, 1.0]\n"
     ]
    }
   ],
   "source": [
    "# Reverse the list using loop\n",
    "\n",
    "reversed_data_2 = []\n",
    "\n",
    "for i in range(1, len(data) + 1):\n",
    "    reversed_data_2.append(data[-1])\n",
    "\n",
    "print(reversed_data_2)"
   ]
  },
  {
   "cell_type": "markdown",
   "metadata": {
    "vscode": {
     "languageId": "plaintext"
    }
   },
   "source": [
    "---"
   ]
  },
  {
   "cell_type": "markdown",
   "metadata": {
    "vscode": {
     "languageId": "plaintext"
    }
   },
   "source": [
    "### 5. Create a new list ‘data2’ with N elements of mixed data types (such as integer, floating points, strings). Create a new list ‘data3’ by appending ‘data2’ list to ‘data’. Further, create another list ‘data4’ by extending ‘data’ list with ‘data2’. Print the new list and observe the differences."
   ]
  },
  {
   "cell_type": "code",
   "execution_count": 8,
   "metadata": {},
   "outputs": [
    {
     "name": "stdout",
     "output_type": "stream",
     "text": [
      "data.append(data2) makes data2 the new last element of the list:\n",
      "[10, 20, 30, 4.0, 5, 6, 7.0, 8, 9, 1.0]\n",
      "\n",
      "Using append twice is one way to get a list of lists:\n",
      "[[10, 20, 30, 4.0, 5, 6, 7.0, 8, 9, 1.0], [1, 2, 3, 4, 5.0, 'a']]\n",
      "\n",
      "Using a list constructor is an easier way of getting a list of lists:\n",
      "[[10, 20, 30, 4.0, 5, 6, 7.0, 8, 9, 1.0], [1, 2, 3, 4, 5.0, 'a']]\n",
      "\n",
      "[10, 20, 30, 4.0, 5, 6, 7.0, 8, 9, 1.0, 1, 2, 3, 4, 5.0, 'a']\n",
      "16\n",
      "[10, 20, 30, 4.0, 5, 6, 7.0, 8, 9, 1.0]\n"
     ]
    }
   ],
   "source": [
    "data2 = [1, 2, 3, 4, 5.0, 'a']\n",
    "\n",
    "# Append data2 to (a copy of) data - data2 (list) becomes the last element of the list\n",
    "data3 = data.copy() # make a separte copy of data\n",
    "data3.append(data2) # append data2 to data3\n",
    "\n",
    "print(\"data.append(data2) makes data2 the new last element of the list:\\n{}\".format(data))\n",
    "\n",
    "# A new list of lists\n",
    "datax = []\n",
    "datax.append(data)\n",
    "datax.append(data2)\n",
    "print(\"\\nUsing append twice is one way to get a list of lists:\\n{}\".format(datax))\n",
    "\n",
    "# Simpler way\n",
    "datax = [] # Initialise\n",
    "datax = [data, data2]\n",
    "print(\"\\nUsing a list constructor is an easier way of getting a list of lists:\\n{}\".format(datax) + \"\\n\")\n",
    "\n",
    "# Extending a list with another list of data\n",
    "datay = []\n",
    "datay.extend(data)\n",
    "datay.extend(data2)\n",
    "\n",
    "print(datay)\n",
    "print(len(datay))\n",
    "\n",
    "print(data)\n"
   ]
  },
  {
   "cell_type": "markdown",
   "metadata": {
    "vscode": {
     "languageId": "plaintext"
    }
   },
   "source": [
    "---"
   ]
  },
  {
   "cell_type": "markdown",
   "metadata": {
    "vscode": {
     "languageId": "plaintext"
    }
   },
   "source": [
    "### 6. You are given the list scores = [40, 70.9, 89, 58, 90, 76, 68, 82, 91, 20]. Find a new list which will have elements greater than 70 only. Use list comprehension."
   ]
  },
  {
   "cell_type": "code",
   "execution_count": 9,
   "metadata": {},
   "outputs": [
    {
     "name": "stdout",
     "output_type": "stream",
     "text": [
      "[70.9, 89, 90, 76, 82, 91]\n"
     ]
    }
   ],
   "source": [
    "scores = [40, 70.9, 89, 58, 90, 76, 68, 82, 91, 20]\n",
    "new_scores = [score for score in scores if score > 70]\n",
    "print(new_scores)"
   ]
  },
  {
   "cell_type": "markdown",
   "metadata": {
    "vscode": {
     "languageId": "plaintext"
    }
   },
   "source": [
    "---"
   ]
  },
  {
   "cell_type": "markdown",
   "metadata": {
    "vscode": {
     "languageId": "plaintext"
    }
   },
   "source": [
    "### 7. Create a new list ‘data4’ containing 10 integer numbers. Find all the even and odd numbers and put them in two separate lists: even list that will contain all the even numbers and odd list that will contain all the odd numbers of list ‘data4’. Use list comprehension."
   ]
  },
  {
   "cell_type": "code",
   "execution_count": 10,
   "metadata": {},
   "outputs": [
    {
     "name": "stdout",
     "output_type": "stream",
     "text": [
      "10\n",
      "[5, 18, 27, 33, 34, 54, 55, 76, 88, 89]\n",
      "[18, 34, 54, 76, 88]\n",
      "[5, 27, 33, 55, 89]\n"
     ]
    }
   ],
   "source": [
    "data4 = [5, 18, 27, 33, 34, 54, 55, 76, 88, 89]\n",
    "\n",
    "print(len(data4))\n",
    "print(data4)\n",
    "\n",
    "even_list = [x for x in data4 if x % 2 == 0]\n",
    "odd_list = [x for x in data4 if x % 2 != 0]\n",
    "\n",
    "print(even_list)\n",
    "print(odd_list)"
   ]
  }
 ],
 "metadata": {
  "kernelspec": {
   "display_name": "base",
   "language": "python",
   "name": "python3"
  },
  "language_info": {
   "codemirror_mode": {
    "name": "ipython",
    "version": 3
   },
   "file_extension": ".py",
   "mimetype": "text/x-python",
   "name": "python",
   "nbconvert_exporter": "python",
   "pygments_lexer": "ipython3",
   "version": "3.12.2"
  }
 },
 "nbformat": 4,
 "nbformat_minor": 2
}
